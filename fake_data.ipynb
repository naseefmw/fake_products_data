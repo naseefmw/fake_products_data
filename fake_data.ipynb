{
  "cells": [
    {
      "cell_type": "code",
      "execution_count": 2,
      "metadata": {
        "id": "My3QLx2_ppHA"
      },
      "outputs": [],
      "source": [
        "from random import randint, uniform\n",
        "from datetime import datetime, timedelta\n",
        "\n",
        "open('data.json','w').close() #for clearing json file if it exist\n",
        "fp = open('data.json','w')\n",
        "\n",
        "\n",
        "def description(brand,subBrand,version):\n",
        "  result = descriptionTemplate.format(brand = brands[brand], subBrand = subBrands[brand][subBrand], version = version, category = categories[brand][subBrand])\n",
        "  return result\n",
        "\n",
        "def date_generator(start, end):\n",
        "  date = start + timedelta(seconds = randint(0, int((end - start).total_seconds())))\n",
        "  return str(date)[:10]\n",
        "\n",
        "def generate_data(n):\n",
        "  open('data.json','w').close()\n",
        "  fp = open('data.json','w')\n",
        "  productData = []\n",
        "  for i in range (n):\n",
        "    brand = randint(0, len(brands)-1)\n",
        "    subBrand = randint(0, len(subBrands[brand])-1)\n",
        "    version = randint(versionRange[0], versionRange[1])\n",
        "    rating = round(uniform(ratingRange[0], ratingRange[1]), 1)\n",
        "    price = basePrices[brand][subBrand]*version*0.5\n",
        "    productData.append(template.format(brand = brands[brand], subBrand=subBrands[brand][subBrand], version=version, description = description(brand, subBrand, version), price = price, category = categories[brand][subBrand], image = images[brand][subBrand], date = date_generator(start, end), rating = rating))\n",
        "  result = ','.join(productData)\n",
        "  fp.write('['+result+']')\n"
      ]
    },
    {
      "cell_type": "code",
      "execution_count": 3,
      "metadata": {
        "id": "kluu16xErO4F"
      },
      "outputs": [],
      "source": [
        "#template data\n",
        "template = \"{{\\\"name\\\": \\\"{brand} {subBrand}{version}\\\",\\\"description\\\": \\\"{description}\\\",\\\"brand\\\": \\\"{brand}\\\",\\\"price\\\": {price},\\\"category\\\": \\\"{category}\\\",\\\"image\\\": \\\"{image}\\\",\\\"addedDate\\\": \\\"{date}\\\",\\\"rating\\\": {rating}}}\"\n",
        "\n",
        "descriptionTemplate = \"Introducing our cutting-edge {brand} {subBrand}{version}, designed to revolutionize your life. This sleek and innovative {category} seamlessly combines form and function to enhance your everyday experiences. Whether you're a tech enthusiast, a busy professional, or simply someone looking to make life easier, this {category} is the perfect addition to your arsenal of gadgets. With its state-of-the-art features, this {category} empowers you to stay connected, productive, and entertained like never before. Its powerful performance ensures smooth multitasking, while its intuitive controls make it accessible to users of all skill levels. Experience unparalleled convenience and efficiency as you effortlessly navigate through tasks, whether it's for work, entertainment, or personal use. Its sleek design not only complements your modern lifestyle but also makes a bold statement about your commitment to quality and innovation. Trust in the reliability and durability of this {category}, crafted with precision and attention to detail. Every aspect has been carefully designed to exceed your expectations. Enhance your life today with this versatile {category}, available now on Circuit Cart. Join the ranks of satisfied customers who have already embraced the future of technology. Elevate your everyday and seize the possibilities that await with this exceptional {brand} {subBrand}{version} at your fingertips.\""
      ]
    },
    {
      "cell_type": "code",
      "execution_count": 4,
      "metadata": {
        "id": "IdgsHlVAp24Z"
      },
      "outputs": [],
      "source": [
        "#products data\n",
        "\n",
        "brands = ['Samsung', 'Apple', 'HP', 'Google']\n",
        "subBrands = [['Galaxy S2', 'Galaxy Book '], ['iPhone ', 'Macbook '], ['Omen 1', 'Wireless Mouse '], ['Pixel ', 'Pixel Buds ']]\n",
        "categories = [['SmartPhone','Laptop'], ['SmartPhone','Laptop'], ['Laptop','Accessory'], ['SmartPhone','Accessory']]\n",
        "basePrices = [[50000,60000], [40000,80000], [75000,500], [35000,1000]]\n",
        "images = [\n",
        "    ['https://rukminim2.flixcart.com/image/416/416/xif0q/mobile/q/q/w/galaxy-s23-ultra-5g-smartphone-sm-s918bzkcins-samsung-original-imagqjczezmgquhb.jpeg?q=70','https://rukminim2.flixcart.com/image/416/416/l0r1j0w0/computer/z/m/a/np340xla-ka1in-thin-and-light-laptop-samsung-original-imagcgqvcvcbsun6.jpeg?q=70'],\n",
        "    ['https://rukminim2.flixcart.com/image/416/416/k2jbyq80pkrrdj/mobile-refurbished/k/y/d/iphone-11-256-u-mwm82hn-a-apple-0-original-imafkg25mhaztxns.jpeg?q=70','https://rukminim2.flixcart.com/image/416/416/kp5sya80/screen-guard/tempered-glass/o/v/n/apple-macbook-air-m1-13-3-inch-lightwings-original-imag3gh5xftgbpg3.jpeg?q=70'],\n",
        "    ['https://rukminim2.flixcart.com/image/416/416/xif0q/computer/i/q/r/victus-15-fa-gaming-laptop-hp-original-imagpyfc64s6wwpb.jpeg?q=70','https://rukminim2.flixcart.com/image/416/416/k0e66q80/mouse/u/8/6/hp-s1000-original-imafk74z7xnkmqyx.jpeg?q=70'],\n",
        "    ['https://rukminim2.flixcart.com/image/416/416/xif0q/mobile/z/b/d/-original-imagpgx48f4szdvf.jpeg?q=70','https://rukminim2.flixcart.com/image/416/416/l5ld8y80/headphone/e/8/o/ga03201-google-original-imagg8d7bhxjduze.jpeg?q=70']\n",
        "]\n",
        "versionRange = [2, 5]\n",
        "ratingRange = [3, 5]\n",
        "start = datetime(2021, 1, 1)\n",
        "end = datetime(2023, 9, 1)"
      ]
    },
    {
      "cell_type": "code",
      "execution_count": 5,
      "metadata": {
        "colab": {
          "base_uri": "https://localhost:8080/"
        },
        "id": "t6UZ9WELruGR",
        "outputId": "14f4c1d4-10cc-4de3-bccb-c6f3d22f846a"
      },
      "outputs": [],
      "source": [
        "count = 10\n",
        "generate_data(count)"
      ]
    }
  ],
  "metadata": {
    "colab": {
      "provenance": []
    },
    "kernelspec": {
      "display_name": "Python 3",
      "name": "python3"
    },
    "language_info": {
      "codemirror_mode": {
        "name": "ipython",
        "version": 3
      },
      "file_extension": ".py",
      "mimetype": "text/x-python",
      "name": "python",
      "nbconvert_exporter": "python",
      "pygments_lexer": "ipython3",
      "version": "3.11.4"
    }
  },
  "nbformat": 4,
  "nbformat_minor": 0
}
